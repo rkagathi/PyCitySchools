{
 "cells": [
  {
   "cell_type": "markdown",
   "metadata": {},
   "source": [
    "Import Dependencies"
   ]
  },
  {
   "cell_type": "code",
   "execution_count": 1,
   "metadata": {},
   "outputs": [],
   "source": [
    "import pandas as pd\n",
    "import numpy as np\n",
    "import os\n"
   ]
  },
  {
   "cell_type": "markdown",
   "metadata": {},
   "source": [
    "<li> Setting arbitrary passing_score = 70 for analysis going forward </li>\n",
    "<li> Create data frames reading Schools data file </li>\n",
    " <li>   Rename the name column from 'name' to 'school_name' </li>\n",
    "    "
   ]
  },
  {
   "cell_type": "code",
   "execution_count": 2,
   "metadata": {},
   "outputs": [],
   "source": [
    "passing_score = 70\n",
    "sch_csv_path = os.path.join(\"raw_data\",\"schools_complete.csv\")\n",
    "schools_df = pd.read_csv(sch_csv_path)\n",
    "# schools_df = schools_df.loc[schools_df[\"type\"]==\"District\"]\n",
    "schools_df = schools_df.reset_index(drop=True)\n",
    "schools_df = schools_df.rename(columns={\"name\":\"school_name\"})\n",
    "# schools_df\n"
   ]
  },
  {
   "cell_type": "markdown",
   "metadata": {},
   "source": [
    "Compute number of schools into schools_count"
   ]
  },
  {
   "cell_type": "code",
   "execution_count": 3,
   "metadata": {},
   "outputs": [],
   "source": [
    "schools_count = schools_df[\"school_name\"].count()\n",
    "# schools_count"
   ]
  },
  {
   "cell_type": "markdown",
   "metadata": {},
   "source": [
    "Import students data file into students_df data frame\n",
    "Rename school column as school_name"
   ]
  },
  {
   "cell_type": "code",
   "execution_count": 4,
   "metadata": {},
   "outputs": [],
   "source": [
    "stu_csv_path = os.path.join(\"raw_data\",\"students_complete.csv\")\n",
    "students_df = pd.read_csv(stu_csv_path)\n",
    "students_df = students_df.rename(columns={\"school\":\"school_name\"})\n",
    "# students_df.head()\n",
    "# students_df.describe()"
   ]
  },
  {
   "cell_type": "markdown",
   "metadata": {},
   "source": [
    "Merge school data frame with type='District' and students data"
   ]
  },
  {
   "cell_type": "code",
   "execution_count": 5,
   "metadata": {},
   "outputs": [],
   "source": [
    "district_df = pd.merge(schools_df[schools_df.type == \"District\"],students_df,on=\"school_name\")\n",
    "# district_df.shape"
   ]
  },
  {
   "cell_type": "markdown",
   "metadata": {},
   "source": [
    "Compute the number of schools into 'district_count'"
   ]
  },
  {
   "cell_type": "code",
   "execution_count": 6,
   "metadata": {},
   "outputs": [
    {
     "data": {
      "text/plain": [
       "7"
      ]
     },
     "execution_count": 6,
     "metadata": {},
     "output_type": "execute_result"
    }
   ],
   "source": [
    "district_count = len(district_df[\"school_name\"].unique())\n",
    "district_count"
   ]
  },
  {
   "cell_type": "code",
   "execution_count": 7,
   "metadata": {},
   "outputs": [],
   "source": [
    "budget_total = district_df[\"budget\"].sum()\n",
    "# budget_total"
   ]
  },
  {
   "cell_type": "code",
   "execution_count": 8,
   "metadata": {},
   "outputs": [],
   "source": [
    "avg_math_score = district_df[\"math_score\"].mean()\n",
    "# avg_math_score"
   ]
  },
  {
   "cell_type": "code",
   "execution_count": 9,
   "metadata": {},
   "outputs": [],
   "source": [
    "avg_reading_score = district_df[\"reading_score\"].mean()\n",
    "# avg_reading_score"
   ]
  },
  {
   "cell_type": "code",
   "execution_count": 10,
   "metadata": {},
   "outputs": [],
   "source": [
    "students_count = district_df[\"Student ID\"].count()\n",
    "# students_count"
   ]
  },
  {
   "cell_type": "code",
   "execution_count": 11,
   "metadata": {},
   "outputs": [],
   "source": [
    "passing_math = district_df.loc[district_df[\"math_score\"] >= passing_score].count() * 100/students_count\n",
    "passing_math = passing_math[\"name\"]"
   ]
  },
  {
   "cell_type": "code",
   "execution_count": 12,
   "metadata": {},
   "outputs": [],
   "source": [
    "passing_reading = district_df.loc[district_df[\"reading_score\"] >= passing_score].count() * 100/students_count\n",
    "passing_reading = passing_reading[\"name\"]"
   ]
  },
  {
   "cell_type": "code",
   "execution_count": 13,
   "metadata": {},
   "outputs": [],
   "source": [
    "passing_list = [passing_math,passing_reading]\n",
    "passing_rate = np.mean(passing_list)\n",
    "# passing_rate"
   ]
  },
  {
   "cell_type": "markdown",
   "metadata": {},
   "source": [
    "District Summary\n",
    "\n",
    "Create a high level snapshot (in table form) of the district's key metrics, including:\n",
    "\n",
    "Total Schools\n",
    "Total Students\n",
    "Total Budget\n",
    "Average Math Score\n",
    "Average Reading Score\n",
    "% Passing Math\n",
    "% Passing Reading\n",
    "Overall Passing Rate (Average of the above two)"
   ]
  },
  {
   "cell_type": "code",
   "execution_count": 14,
   "metadata": {},
   "outputs": [
    {
     "data": {
      "text/html": [
       "<div>\n",
       "<style scoped>\n",
       "    .dataframe tbody tr th:only-of-type {\n",
       "        vertical-align: middle;\n",
       "    }\n",
       "\n",
       "    .dataframe tbody tr th {\n",
       "        vertical-align: top;\n",
       "    }\n",
       "\n",
       "    .dataframe thead th {\n",
       "        text-align: right;\n",
       "    }\n",
       "</style>\n",
       "<table border=\"1\" class=\"dataframe\">\n",
       "  <thead>\n",
       "    <tr style=\"text-align: right;\">\n",
       "      <th></th>\n",
       "      <th>Total Schools</th>\n",
       "      <th>Total Students</th>\n",
       "      <th>Total Budget</th>\n",
       "      <th>Average Math Score</th>\n",
       "      <th>Average Reading Score</th>\n",
       "      <th>% Passing Math</th>\n",
       "      <th>% Passing Reading</th>\n",
       "      <th>% Overall Passing Rate</th>\n",
       "    </tr>\n",
       "  </thead>\n",
       "  <tbody>\n",
       "    <tr>\n",
       "      <th>0</th>\n",
       "      <td>7</td>\n",
       "      <td>26976</td>\n",
       "      <td>70439053973</td>\n",
       "      <td>76.987026</td>\n",
       "      <td>80.962485</td>\n",
       "      <td>66.518387</td>\n",
       "      <td>80.905249</td>\n",
       "      <td>73.711818</td>\n",
       "    </tr>\n",
       "  </tbody>\n",
       "</table>\n",
       "</div>"
      ],
      "text/plain": [
       "   Total Schools  Total Students  Total Budget  Average Math Score  \\\n",
       "0              7           26976   70439053973           76.987026   \n",
       "\n",
       "   Average Reading Score  % Passing Math  % Passing Reading  \\\n",
       "0              80.962485       66.518387          80.905249   \n",
       "\n",
       "   % Overall Passing Rate  \n",
       "0               73.711818  "
      ]
     },
     "execution_count": 14,
     "metadata": {},
     "output_type": "execute_result"
    }
   ],
   "source": [
    "dict = {\"Total Schools\": district_count, \"Total Students\": students_count, \"Total Budget\": budget_total,\n",
    "       \"Average Math Score\": avg_math_score, \"Average Reading Score\": avg_reading_score,\n",
    "       \"% Passing Math\": passing_math, \"% Passing Reading\": passing_reading, \"% Overall Passing Rate\": passing_rate}\n",
    "df = pd.DataFrame([dict], columns=dict.keys())\n",
    "df.reset_index(drop=True)"
   ]
  },
  {
   "cell_type": "markdown",
   "metadata": {},
   "source": [
    "create a school and students data from including all the data -- both District and Charter"
   ]
  },
  {
   "cell_type": "code",
   "execution_count": 15,
   "metadata": {},
   "outputs": [],
   "source": [
    "schoolstu_df = pd.merge(schools_df,students_df,on=\"school_name\")\n",
    "school_sum = schoolstu_df.groupby([\"school_name\",\"type\",\"name\"])"
   ]
  },
  {
   "cell_type": "code",
   "execution_count": 16,
   "metadata": {},
   "outputs": [],
   "source": [
    "# school_sum_no_students = district_df.groupby([\"school_name\"])\n",
    "# school_sum_no_students['reading_score'].filter(lambda x: x > 70)"
   ]
  },
  {
   "cell_type": "code",
   "execution_count": 17,
   "metadata": {},
   "outputs": [],
   "source": [
    "# t_school_math_sum = pd.DataFrame(district_df.groupby([\"school_name\"])[\"math_score\"].mean().reset_index())\n",
    "# t_school_math_sum = pd.DataFrame(district_df.groupby([\"school_name\"])([\"math_score\"]).mean().reset_index())\n",
    "# t_school_math_sum\n",
    "\n",
    "\n",
    "# pd.DataFrame(district_df.groupby([\"school_name\",\"grade\"])[\"math_score\"].mean().reset_index())\n",
    "\n",
    "# t_school_math_pass = school_sum[school_sum[\"math_score\"]> passing_score]"
   ]
  },
  {
   "cell_type": "markdown",
   "metadata": {},
   "source": [
    "Compute the total of math_score greater than the passing score by each school."
   ]
  },
  {
   "cell_type": "code",
   "execution_count": 18,
   "metadata": {},
   "outputs": [],
   "source": [
    "school_sum_mp = school_sum.apply(lambda x: x[x[\"math_score\"]>=passing_score])\n",
    "# school_sum_mp[\"school_name\"].value_counts()\n",
    "school_sum_mp = pd.DataFrame(school_sum_mp[\"school_name\"].value_counts().reset_index())\n",
    "school_sum_mp.columns = [\"school_name\", \"math_pass\"]\n",
    "# school_sum_bySchool = pd.DataFrame(school_sum[\"math_score\"].sum())\n",
    "# school_sum_bySchool\n",
    "# math = school_sum_bySchool.loc[school_sum_bySchool[\"math_score\"]>=passing_score]\n",
    "# math.value_count()"
   ]
  },
  {
   "cell_type": "code",
   "execution_count": 19,
   "metadata": {},
   "outputs": [],
   "source": [
    "# school_sum_mp"
   ]
  },
  {
   "cell_type": "markdown",
   "metadata": {},
   "source": [
    "Compute the total of math_score by each school"
   ]
  },
  {
   "cell_type": "code",
   "execution_count": null,
   "metadata": {},
   "outputs": [],
   "source": [
    "school_sum_sCounts = school_sum.apply(lambda x: x[x[\"math_score\"]>=0])\n",
    "school_sum_sCounts = pd.DataFrame(school_sum_sCounts[\"school_name\"].value_counts().reset_index())\n",
    "school_sum_sCounts.columns = [\"school_name\", \"students_count\"]\n",
    "school_sum_sCounts"
   ]
  },
  {
   "cell_type": "markdown",
   "metadata": {},
   "source": [
    "Merge school summary table with total of math_score by school"
   ]
  },
  {
   "cell_type": "code",
   "execution_count": null,
   "metadata": {},
   "outputs": [],
   "source": [
    "school_sum_all = pd.merge(school_sum_sCounts,school_sum_mp,on=\"school_name\")\n",
    "# type(school_sum_all)"
   ]
  },
  {
   "cell_type": "markdown",
   "metadata": {},
   "source": [
    "Compute the total reading_score greater then the passing score by each school"
   ]
  },
  {
   "cell_type": "code",
   "execution_count": null,
   "metadata": {},
   "outputs": [],
   "source": [
    "school_sum_rp = school_sum.apply(lambda x: x[x[\"reading_score\"]>=passing_score])\n",
    "# school_sum_mp[\"school_name\"].value_counts()\n",
    "school_sum_rp = pd.DataFrame(school_sum_rp[\"school_name\"].value_counts().reset_index())\n",
    "school_sum_rp.columns = [\"school_name\", \"reading_pass\"]\n",
    "school_sum_rp"
   ]
  },
  {
   "cell_type": "markdown",
   "metadata": {},
   "source": [
    "Merge school summary and reading_score totals for each school"
   ]
  },
  {
   "cell_type": "code",
   "execution_count": null,
   "metadata": {},
   "outputs": [],
   "source": [
    "school_sum_all = pd.merge(school_sum_all,school_sum_rp,on=\"school_name\") # run only once\n",
    "school_sum_all"
   ]
  },
  {
   "cell_type": "markdown",
   "metadata": {},
   "source": [
    "Compute % Passing Math by school"
   ]
  },
  {
   "cell_type": "code",
   "execution_count": null,
   "metadata": {},
   "outputs": [],
   "source": [
    "school_sum_all[\"% math pass\"] = school_sum_all[\"math_pass\"]* 100/school_sum_all[\"students_count\"]\n"
   ]
  },
  {
   "cell_type": "markdown",
   "metadata": {},
   "source": [
    "Compute % Passing Reading by school"
   ]
  },
  {
   "cell_type": "code",
   "execution_count": null,
   "metadata": {},
   "outputs": [],
   "source": [
    "school_sum_all[\"% reading pass\"] = school_sum_all[\"reading_pass\"]* 100/school_sum_all[\"students_count\"]\n",
    "\n"
   ]
  },
  {
   "cell_type": "code",
   "execution_count": null,
   "metadata": {},
   "outputs": [],
   "source": [
    "school_sum_all"
   ]
  },
  {
   "cell_type": "code",
   "execution_count": null,
   "metadata": {},
   "outputs": [],
   "source": [
    "school_sum_all = pd.merge(school_sum_all,schools_df[[\"school_name\",\"budget\",\"type\"]],on=\"school_name\") #run only once"
   ]
  },
  {
   "cell_type": "markdown",
   "metadata": {},
   "source": [
    "Compute budget per student"
   ]
  },
  {
   "cell_type": "code",
   "execution_count": null,
   "metadata": {},
   "outputs": [],
   "source": [
    "school_sum_all[\"budget per student\"] = school_sum_all[\"budget\"]/school_sum_all[\"students_count\"]\n",
    "# school_sum_all"
   ]
  },
  {
   "cell_type": "code",
   "execution_count": null,
   "metadata": {},
   "outputs": [],
   "source": [
    "school_sum_math = pd.DataFrame(schoolstu_df.groupby([\"school_name\"])[\"math_score\"].sum().reset_index())\n",
    "school_sum_math.columns = [\"school_name\", \"math_total\"]\n",
    "# school_sum_math"
   ]
  },
  {
   "cell_type": "code",
   "execution_count": null,
   "metadata": {},
   "outputs": [],
   "source": [
    "school_sum_all = pd.merge(school_sum_all,school_sum_math,on=\"school_name\")\n",
    "# school_sum_all"
   ]
  },
  {
   "cell_type": "code",
   "execution_count": null,
   "metadata": {},
   "outputs": [],
   "source": [
    "school_sum_all[\"Average Math Score\"] = school_sum_all[\"math_total\"]/school_sum_all[\"students_count\"]\n",
    "# school_sum_all"
   ]
  },
  {
   "cell_type": "code",
   "execution_count": null,
   "metadata": {},
   "outputs": [],
   "source": [
    "school_sum_reading = pd.DataFrame(schoolstu_df.groupby([\"school_name\"])[\"reading_score\"].sum().reset_index())\n",
    "school_sum_reading.columns = [\"school_name\", \"reading_total\"]\n",
    "# school_sum_reading"
   ]
  },
  {
   "cell_type": "code",
   "execution_count": null,
   "metadata": {},
   "outputs": [],
   "source": [
    "school_sum_all = pd.merge(school_sum_all,school_sum_reading,on=\"school_name\")\n",
    "# school_sum_all"
   ]
  },
  {
   "cell_type": "code",
   "execution_count": null,
   "metadata": {},
   "outputs": [],
   "source": [
    "school_sum_all[\"Average Reading Score\"] = school_sum_all[\"reading_total\"]/school_sum_all[\"students_count\"]\n",
    "# school_sum_all"
   ]
  },
  {
   "cell_type": "code",
   "execution_count": null,
   "metadata": {},
   "outputs": [],
   "source": [
    "school_sum_all[\"Overall passing rate\"] = (school_sum_all[\"% math pass\"] + school_sum_all[\"% reading pass\"])/2\n",
    "# school_sum_all.sort(on=\"Overall passing rate\")"
   ]
  },
  {
   "cell_type": "code",
   "execution_count": null,
   "metadata": {},
   "outputs": [],
   "source": [
    "school_sum_all = school_sum_all.sort_values(\"Overall passing rate\",ascending=False).reset_index(drop=True)"
   ]
  },
  {
   "cell_type": "markdown",
   "metadata": {},
   "source": [
    "School Summary\n",
    "\n",
    "\n",
    "Create an overview table that summarizes key metrics about each school, including:\n",
    "\n",
    "\n",
    "School Name\n",
    "School Type\n",
    "Total Students\n",
    "Total School Budget\n",
    "Per Student Budget\n",
    "Average Math Score\n",
    "Average Reading Score\n",
    "% Passing Math\n",
    "% Passing Reading\n",
    "Overall Passing Rate (Average of the above two)"
   ]
  },
  {
   "cell_type": "code",
   "execution_count": null,
   "metadata": {},
   "outputs": [],
   "source": [
    "school_sum_all"
   ]
  },
  {
   "cell_type": "markdown",
   "metadata": {},
   "source": [
    "List the top 5 schools based on 'Overall passing rate'"
   ]
  },
  {
   "cell_type": "code",
   "execution_count": null,
   "metadata": {},
   "outputs": [],
   "source": [
    "school_sum_all.head(5)"
   ]
  },
  {
   "cell_type": "markdown",
   "metadata": {},
   "source": [
    "List the bottom 5 schools based on 'Overall passing rate'"
   ]
  },
  {
   "cell_type": "code",
   "execution_count": null,
   "metadata": {},
   "outputs": [],
   "source": [
    "school_sum_all = school_sum_all.sort_values(\"Overall passing rate\",ascending=True).reset_index(drop=True)\n",
    "school_sum_all.head(5)"
   ]
  },
  {
   "cell_type": "code",
   "execution_count": null,
   "metadata": {},
   "outputs": [],
   "source": [
    "Math Scores by Grade\n",
    "\n",
    "\n",
    "Table that lists the average Math Score for students of each grade level (9th, 10th, 11th, 12th) at each school."
   ]
  },
  {
   "cell_type": "code",
   "execution_count": null,
   "metadata": {},
   "outputs": [],
   "source": [
    "school_grade_math_sum = pd.DataFrame(schoolstu_df.groupby([\"school_name\",\"grade\"])[\"math_score\"].mean().reset_index())\n",
    "school_grade_math_sum.columns = [\"school_name\", \"grade\",\"math_score\"]\n",
    "school_grade_math_sum[\"dgrade\"] = pd.to_numeric(school_grade_math_sum[\"grade\"].str.extract('(^\\d*)'))\n",
    "\n",
    "school_grade_math_sum = school_grade_math_sum.sort_values([\"school_name\",\"dgrade\"],ascending=True).reset_index(drop=True)\n",
    "school_grade_math_sum = school_grade_math_sum.rename(columns={'math_score':'Average Math Score'})\n",
    "school_grade_math_sum = school_grade_math_sum.drop(columns=[\"dgrade\"])\n",
    "school_grade_math_sum"
   ]
  },
  {
   "cell_type": "markdown",
   "metadata": {},
   "source": [
    "Reading Scores by Grade\n",
    "\n",
    "\n",
    "Table that lists the average Reading Score for students of each grade level (9th, 10th, 11th, 12th) at each school."
   ]
  },
  {
   "cell_type": "code",
   "execution_count": null,
   "metadata": {},
   "outputs": [],
   "source": [
    "school_grade_reading_sum = pd.DataFrame(schoolstu_df.groupby([\"school_name\",\"grade\"])[\"reading_score\"].mean().reset_index())\n",
    "school_grade_reading_sum.columns = [\"school_name\", \"grade\",\"reading_score\"]\n",
    "school_grade_reading_sum[\"dgrade\"] = pd.to_numeric(school_grade_reading_sum[\"grade\"].str.extract('(^\\d*)'))\n",
    "\n",
    "school_grade_reading_sum = school_grade_reading_sum.sort_values([\"school_name\",\"dgrade\"],ascending=True).reset_index(drop=True)\n",
    "school_grade_reading_sum = school_grade_reading_sum.rename(columns={'reading_score':'Average Reading Score'})\n",
    "school_grade_reading_sum = school_grade_reading_sum.drop(columns=[\"dgrade\"])\n",
    "school_grade_reading_sum"
   ]
  },
  {
   "cell_type": "code",
   "execution_count": null,
   "metadata": {},
   "outputs": [],
   "source": [
    "bins = [560,600,620,640,680]\n",
    "\n",
    "# Create the names for the four bins\n",
    "group_names = ['Low', 'Medium', 'High', 'Very High']"
   ]
  },
  {
   "cell_type": "code",
   "execution_count": null,
   "metadata": {},
   "outputs": [],
   "source": [
    "# Cut budget and place the scores into bins\n",
    "pd.cut(school_sum_all[\"budget per student\"], bins, labels=group_names)"
   ]
  },
  {
   "cell_type": "code",
   "execution_count": null,
   "metadata": {},
   "outputs": [],
   "source": [
    "school_sum_all[\"Budget bin\"]= pd.cut(\n",
    "    school_sum_all[\"budget per student\"], bins, labels=group_names)\n",
    "# school_sum_all"
   ]
  },
  {
   "cell_type": "markdown",
   "metadata": {},
   "source": [
    "Scores by School Spending\n",
    "\n",
    "\n",
    "Table that breaks down school performances based on average Spending Ranges (Per Student). Use 4 reasonable bins to group school spending. Include in the table each of the following:\n",
    "\n",
    "\n",
    "Average Math Score\n",
    "Average Reading Score\n",
    "% Passing Math\n",
    "% Passing Reading\n",
    "Overall Passing Rate (Average of the above two)"
   ]
  },
  {
   "cell_type": "code",
   "execution_count": null,
   "metadata": {},
   "outputs": [],
   "source": [
    "school_sum_all = school_sum_all.sort_values(\"Overall passing rate\",ascending=False).reset_index(drop=True)\n",
    "school_sum_all"
   ]
  },
  {
   "cell_type": "code",
   "execution_count": null,
   "metadata": {},
   "outputs": [],
   "source": [
    "bins = [0,2000,4000,6000]\n",
    "\n",
    "# Create the names for the four bins\n",
    "group_names = ['Small', 'Medium', 'Large']"
   ]
  },
  {
   "cell_type": "code",
   "execution_count": null,
   "metadata": {},
   "outputs": [],
   "source": [
    "# Cut school size and place the scores into bins\n",
    "pd.cut(school_sum_all[\"students_count\"], bins, labels=group_names)"
   ]
  },
  {
   "cell_type": "markdown",
   "metadata": {},
   "source": [
    "Scores by School Size\n",
    "\n",
    "\n",
    "Repeat of the above breakdown, but this time group schools based on a reasonable approximation of school size (Small, Medium, Large)."
   ]
  },
  {
   "cell_type": "code",
   "execution_count": null,
   "metadata": {},
   "outputs": [],
   "source": [
    "school_sum_all[\"School size bin\"]= pd.cut(\n",
    "    school_sum_all[\"students_count\"], bins, labels=group_names)\n",
    "school_sum_all"
   ]
  },
  {
   "cell_type": "markdown",
   "metadata": {},
   "source": [
    "School Type, Budget and Overall Passing Rate summary"
   ]
  },
  {
   "cell_type": "code",
   "execution_count": null,
   "metadata": {},
   "outputs": [],
   "source": [
    "school_type_budget_sum = pd.DataFrame(school_sum_all.groupby([\"type\",\"Budget bin\"])[\"Overall passing rate\"].mean().reset_index())\n",
    "school_type_budget_sum"
   ]
  },
  {
   "cell_type": "markdown",
   "metadata": {},
   "source": [
    "School Type, School Size and Overall Passing Rate summary"
   ]
  },
  {
   "cell_type": "code",
   "execution_count": null,
   "metadata": {},
   "outputs": [],
   "source": [
    "school_typ_size_sum= pd.DataFrame(school_sum_all.groupby([\"type\",\"School size bin\"])[\"Overall passing rate\"].mean().reset_index())\n",
    "school_typ_size_sum"
   ]
  },
  {
   "cell_type": "markdown",
   "metadata": {},
   "source": [
    "Three observable trends based on the data.\n",
    "<li> Charter Schools fare well in Overall passing rate compared to District Schools </li>\n",
    "<li> Smaller school size results in higher Overall passing rate </li>\n",
    "<li> Budget per student is less in Charter Schools but still Overall passing rate is high compared to District Schools </li>"
   ]
  }
 ],
 "metadata": {
  "kernelspec": {
   "display_name": "Python 3",
   "language": "python",
   "name": "python3"
  },
  "language_info": {
   "codemirror_mode": {
    "name": "ipython",
    "version": 3
   },
   "file_extension": ".py",
   "mimetype": "text/x-python",
   "name": "python",
   "nbconvert_exporter": "python",
   "pygments_lexer": "ipython3",
   "version": "3.6.4"
  }
 },
 "nbformat": 4,
 "nbformat_minor": 2
}
